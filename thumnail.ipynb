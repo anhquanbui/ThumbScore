{
  "nbformat": 4,
  "nbformat_minor": 0,
  "metadata": {
    "colab": {
      "provenance": []
    },
    "kernelspec": {
      "name": "python3",
      "display_name": "Python 3"
    },
    "language_info": {
      "name": "python"
    }
  },
  "cells": [
    {
      "cell_type": "code",
      "source": [
        "!pip -q install streamlit colabcode opencv-python pandas numpy pillow"
      ],
      "metadata": {
        "id": "XxyAX5Rfpyk2"
      },
      "execution_count": null,
      "outputs": []
    },
    {
      "cell_type": "code",
      "execution_count": null,
      "metadata": {
        "id": "T7CpyQjeky28"
      },
      "outputs": [],
      "source": [
        "!pip -q install kagglehub opencv-python pandas numpy tqdm pillow\n",
        "\n",
        "import os, glob, kagglehub, pandas as pd, numpy as np, cv2\n",
        "from tqdm import tqdm\n",
        "\n",
        "# Download Kaggle dataset to local cache (~/.cache/kagglehub/...)\n",
        "path = kagglehub.dataset_download(\"adinapunyobanerjee/youtube-thumbnail-dataset\")\n",
        "print(\"Downloaded to:\", path)\n",
        "\n",
        "# Find the folder that actually contains the images\n",
        "candidates = glob.glob(os.path.join(path, \"**\", \"*.jpg\"), recursive=True)\n",
        "print(\"Total JPGs found:\", len(candidates))\n",
        "# If 0, print the tree to inspect\n",
        "if not candidates:\n",
        "    for p in glob.glob(os.path.join(path, \"**\"), recursive=True):\n",
        "        print(p)\n"
      ]
    },
    {
      "cell_type": "code",
      "source": [
        "def img_stats(fp):\n",
        "    \"\"\"Return sharpness, contrast, saturation, edge_density for an image path.\"\"\"\n",
        "    img = cv2.imread(fp)\n",
        "    if img is None:\n",
        "        return None\n",
        "    h, w = img.shape[:2]\n",
        "    area = float(h*w)\n",
        "\n",
        "    # sharpness via Laplacian variance\n",
        "    gray = cv2.cvtColor(img, cv2.COLOR_BGR2GRAY)\n",
        "    sharp = cv2.Laplacian(gray, cv2.CV_64F).var()\n",
        "\n",
        "    # contrast = std of grayscale\n",
        "    contrast = gray.std()\n",
        "\n",
        "    # saturation: convert to HSV and take mean S\n",
        "    hsv = cv2.cvtColor(img, cv2.COLOR_BGR2HSV)\n",
        "    saturation = hsv[...,1].mean()\n",
        "\n",
        "    # edge density: Canny edges / area\n",
        "    edges = cv2.Canny(gray, 100, 200)\n",
        "    edge_density = edges.sum() / 255.0 / area\n",
        "\n",
        "    return sharp, contrast, saturation, edge_density\n",
        "\n",
        "rows = []\n",
        "for fp in tqdm(candidates[:5000]):  # sample 5k to start (increase if you want)\n",
        "    stats = img_stats(fp)\n",
        "    if stats:\n",
        "        rows.append((fp,)+stats)\n",
        "\n",
        "df = pd.DataFrame(rows, columns=[\"filepath\",\"sharpness\",\"contrast\",\"saturation\",\"edge_density\"])\n",
        "\n",
        "# normalize 0-1 each feature (robust scaling)\n",
        "for c in [\"sharpness\",\"contrast\",\"saturation\",\"edge_density\"]:\n",
        "    q1, q99 = df[c].quantile(0.01), df[c].quantile(0.99)\n",
        "    df[c+\"_norm\"] = (df[c].clip(q1, q99) - q1) / (q99 - q1 + 1e-8)\n",
        "\n",
        "# weighted combo -> aesthetic_proxy\n",
        "df[\"aesthetic_proxy\"] = (\n",
        "    0.35*df[\"sharpness_norm\"] +\n",
        "    0.30*df[\"contrast_norm\"] +\n",
        "    0.25*df[\"saturation_norm\"] +\n",
        "    0.10*df[\"edge_density_norm\"]\n",
        ")\n",
        "\n",
        "out_csv = \"/content/yt_thumbs_aesthetic_proxy.csv\"\n",
        "df.to_csv(out_csv, index=False)\n",
        "print(\"Saved:\", out_csv)\n",
        "\n",
        "df.sort_values(\"aesthetic_proxy\", ascending=False).head(10)\n"
      ],
      "metadata": {
        "id": "VzLJrq1dosOD"
      },
      "execution_count": null,
      "outputs": []
    },
    {
      "cell_type": "code",
      "source": [
        "from IPython.display import display\n",
        "display(df.sort_values(\"aesthetic_proxy\", ascending=False).head(20)[\n",
        "    [\"filepath\",\"aesthetic_proxy\",\"sharpness\",\"contrast\",\"saturation\",\"edge_density\"]\n",
        "])\n"
      ],
      "metadata": {
        "id": "J2ffnhxVo_fO"
      },
      "execution_count": null,
      "outputs": []
    },
    {
      "cell_type": "code",
      "source": [
        "from IPython.display import Image, display\n",
        "\n",
        "top10 = df.sort_values(\"aesthetic_proxy\", ascending=False).head(10)\n",
        "\n",
        "for _, row in top10.iterrows():\n",
        "    print(f\"Score: {row['aesthetic_proxy']:.3f} | File: {row['filepath']}\")\n",
        "    display(Image(filename=row[\"filepath\"]))\n"
      ],
      "metadata": {
        "id": "GAiVQDEmpNYj"
      },
      "execution_count": null,
      "outputs": []
    },
    {
      "cell_type": "code",
      "source": [
        "from pyngrok import ngrok\n",
        "ngrok.set_auth_token(\"PLACE_YOUR_TOKEN_HERE\")"
      ],
      "metadata": {
        "id": "OiVhZnqjsQN2"
      },
      "execution_count": null,
      "outputs": []
    },
    {
      "cell_type": "code",
      "source": [
        "# 1) streamlit pyngrok\n",
        "!pip -q install streamlit pyngrok==7.1.5\n",
        "\n",
        "# 2) backgroundStreamlit & log\n",
        "!pkill -f \"streamlit run\" || true\n",
        "!fuser -k 8501/tcp || true\n",
        "!nohup streamlit run /content/streamlit_app.py \\\n",
        "  --server.port 8501 --server.headless true \\\n",
        "  --server.enableCORS false --server.enableXsrfProtection false \\\n",
        "  > /content/streamlit.log 2>&1 &\n",
        "\n"
      ],
      "metadata": {
        "id": "szHaVnmBq8yT"
      },
      "execution_count": null,
      "outputs": []
    },
    {
      "cell_type": "code",
      "source": [
        "public_url = ngrok.connect(8501, \"http\")\n",
        "print(\"✅ Public URL:\", public_url.public_url)"
      ],
      "metadata": {
        "id": "B6_bjc3fwmb4"
      },
      "execution_count": null,
      "outputs": []
    }
  ]
}